{
 "cells": [
  {
   "cell_type": "code",
   "execution_count": 11,
   "metadata": {},
   "outputs": [],
   "source": [
    "import os\n",
    "import simpledbf\n",
    "\n",
    "# Set the directory where the .dbf files are located\n",
    "dbf_directory = 'dbf_files'\n",
    "\n",
    "# Set the directory where the .csv files should be saved\n",
    "csv_directory = 'csv_files'\n",
    "\n",
    "# Iterate through all the files in the dbf directory\n",
    "for filename in os.listdir(dbf_directory):\n",
    "  # Check if the file is a .dbf file\n",
    "  if filename.endswith('.dbf'):\n",
    "    # Read the .dbf file into a DataFrame\n",
    "    dbf = simpledbf.Dbf5(os.path.join(dbf_directory, filename), codec='latin-1')\n",
    "    df = dbf.to_dataframe()\n",
    "\n",
    "    # Write the DataFrame to a .csv file\n",
    "    csv_filename = os.path.splitext(filename)[0] + '.csv'\n",
    "    df.to_csv(os.path.join(csv_directory, csv_filename), index=False)\n"
   ]
  }
 ],
 "metadata": {
  "kernelspec": {
   "display_name": "Python 3",
   "language": "python",
   "name": "python3"
  },
  "language_info": {
   "codemirror_mode": {
    "name": "ipython",
    "version": 3
   },
   "file_extension": ".py",
   "mimetype": "text/x-python",
   "name": "python",
   "nbconvert_exporter": "python",
   "pygments_lexer": "ipython3",
   "version": "3.9.7"
  },
  "orig_nbformat": 4,
  "vscode": {
   "interpreter": {
    "hash": "916dbcbb3f70747c44a77c7bcd40155683ae19c65e1c03b4aa3499c5328201f1"
   }
  }
 },
 "nbformat": 4,
 "nbformat_minor": 2
}
